{
 "cells": [
  {
   "cell_type": "markdown",
   "metadata": {},
   "source": [
    "# Linear regression using the gradient descent"
   ]
  },
  {
   "cell_type": "markdown",
   "metadata": {},
   "source": [
    "In this notebook, I'll show you the basics of neural networks. One of the most important concepts in neural networks is the gradient descent, this is the base of training a neural network. In this notebook, we will optimize a simple linear regression with the most simple gradient descent. In real problems optimizers are used in order to converge faster."
   ]
  },
  {
   "cell_type": "code",
   "execution_count": 1,
   "metadata": {},
   "outputs": [],
   "source": [
    "import tensorflow as tf\n",
    "import pandas as pd \n",
    "import numpy as np\n",
    "import matplotlib.pyplot as plt"
   ]
  },
  {
   "cell_type": "markdown",
   "metadata": {},
   "source": [
    "Linear regression is a linear approach to modeling the relationship between a scalar response (or dependent variable) and one or more explanatory variables (or independent variables). Imagine that we had the following data:"
   ]
  },
  {
   "cell_type": "code",
   "execution_count": 25,
   "metadata": {},
   "outputs": [
    {
     "data": {
      "text/plain": [
       "<matplotlib.collections.PathCollection at 0x7fd4cc59d750>"
      ]
     },
     "execution_count": 25,
     "metadata": {},
     "output_type": "execute_result"
    },
    {
     "data": {
      "image/png": "[encoded data removed]",
      "text/plain": [
       "<Figure size 432x288 with 1 Axes>"
      ]
     },
     "metadata": {
      "needs_background": "light"
     },
     "output_type": "display_data"
    }
   ],
   "source": [
    "x = np.arange(100)\n",
    "y = 0.7 * x + np.random.uniform(-10,10, size=(100,))\n",
    "\n",
    "plt.scatter(x,y)"
   ]
  },
  {
   "cell_type": "markdown",
   "metadata": {},
   "source": [
    "As you see there's a dependency between x and y. A linear dependency, while x is increased y is increased. Linear regression would fit this model like the orange line on the following picture."
   ]
  },
  {
   "cell_type": "code",
   "execution_count": 27,
   "metadata": {},
   "outputs": [
    {
     "data": {
      "text/plain": [
       "[<matplotlib.lines.Line2D at 0x7fd4cc304750>]"
      ]
     },
     "execution_count": 27,
     "metadata": {},
     "output_type": "execute_result"
    },
    {
     "data": {
      "image/png": "[encoded data removed]",
      "text/plain": [
       "<Figure size 432x288 with 1 Axes>"
      ]
     },
     "metadata": {
      "needs_background": "light"
     },
     "output_type": "display_data"
    }
   ],
   "source": [
    "plt.scatter(x,y)\n",
    "plt.plot(x, x*0.7, c = \"orange\")"
   ]
  },
  {
   "cell_type": "markdown",
   "metadata": {},
   "source": [
    "This was synthetic data, in real problemes, there's more than 1 variable and the relation isn't that simple. In the following section, we'll present the data that we'll be using."
   ]
  },
  {
   "cell_type": "markdown",
   "metadata": {},
   "source": [
    "## 1. Prepare the data"
   ]
  },
  {
   "cell_type": "markdown",
   "metadata": {},
   "source": [
    "In this example, we'll use a simple dataset of sklearn. This is dataset contains 10 variables and a target. In a real problem, we would inspect the data but, in this study, we just care about the gradient descent algorithm. As you can see there are 10 dependent variables and an independent variable \"target\". Using the dependent variables we want to fit a model that can predict the target. In this case, we can't plot the data, there are too many dimensions and our head is just able to imagine 3 of them."
   ]
  },
  {
   "cell_type": "code",
   "execution_count": 5,
   "metadata": {},
   "outputs": [
    {
     "data": {
      "text/html": [
       "<div>\n",
       "<style scoped>\n",
       "    .dataframe tbody tr th:only-of-type {\n",
       "        vertical-align: middle;\n",
       "    }\n",
       "\n",
       "    .dataframe tbody tr th {\n",
       "        vertical-align: top;\n",
       "    }\n",
       "\n",
       "    .dataframe thead th {\n",
       "        text-align: right;\n",
       "    }\n",
       "</style>\n",
       "<table border=\"1\" class=\"dataframe\">\n",
       "  <thead>\n",
       "    <tr style=\"text-align: right;\">\n",
       "      <th></th>\n",
       "      <th>age</th>\n",
       "      <th>sex</th>\n",
       "      <th>bmi</th>\n",
       "      <th>bp</th>\n",
       "      <th>s1</th>\n",
       "      <th>s2</th>\n",
       "      <th>s3</th>\n",
       "      <th>s4</th>\n",
       "      <th>s5</th>\n",
       "      <th>s6</th>\n",
       "      <th>target</th>\n",
       "    </tr>\n",
       "  </thead>\n",
       "  <tbody>\n",
       "    <tr>\n",
       "      <td>0</td>\n",
       "      <td>0.038076</td>\n",
       "      <td>0.050680</td>\n",
       "      <td>0.061696</td>\n",
       "      <td>0.021872</td>\n",
       "      <td>-0.044223</td>\n",
       "      <td>-0.034821</td>\n",
       "      <td>-0.043401</td>\n",
       "      <td>-0.002592</td>\n",
       "      <td>0.019908</td>\n",
       "      <td>-0.017646</td>\n",
       "      <td>151.0</td>\n",
       "    </tr>\n",
       "    <tr>\n",
       "      <td>1</td>\n",
       "      <td>-0.001882</td>\n",
       "      <td>-0.044642</td>\n",
       "      <td>-0.051474</td>\n",
       "      <td>-0.026328</td>\n",
       "      <td>-0.008449</td>\n",
       "      <td>-0.019163</td>\n",
       "      <td>0.074412</td>\n",
       "      <td>-0.039493</td>\n",
       "      <td>-0.068330</td>\n",
       "      <td>-0.092204</td>\n",
       "      <td>75.0</td>\n",
       "    </tr>\n",
       "    <tr>\n",
       "      <td>2</td>\n",
       "      <td>0.085299</td>\n",
       "      <td>0.050680</td>\n",
       "      <td>0.044451</td>\n",
       "      <td>-0.005671</td>\n",
       "      <td>-0.045599</td>\n",
       "      <td>-0.034194</td>\n",
       "      <td>-0.032356</td>\n",
       "      <td>-0.002592</td>\n",
       "      <td>0.002864</td>\n",
       "      <td>-0.025930</td>\n",
       "      <td>141.0</td>\n",
       "    </tr>\n",
       "    <tr>\n",
       "      <td>3</td>\n",
       "      <td>-0.089063</td>\n",
       "      <td>-0.044642</td>\n",
       "      <td>-0.011595</td>\n",
       "      <td>-0.036656</td>\n",
       "      <td>0.012191</td>\n",
       "      <td>0.024991</td>\n",
       "      <td>-0.036038</td>\n",
       "      <td>0.034309</td>\n",
       "      <td>0.022692</td>\n",
       "      <td>-0.009362</td>\n",
       "      <td>206.0</td>\n",
       "    </tr>\n",
       "    <tr>\n",
       "      <td>4</td>\n",
       "      <td>0.005383</td>\n",
       "      <td>-0.044642</td>\n",
       "      <td>-0.036385</td>\n",
       "      <td>0.021872</td>\n",
       "      <td>0.003935</td>\n",
       "      <td>0.015596</td>\n",
       "      <td>0.008142</td>\n",
       "      <td>-0.002592</td>\n",
       "      <td>-0.031991</td>\n",
       "      <td>-0.046641</td>\n",
       "      <td>135.0</td>\n",
       "    </tr>\n",
       "  </tbody>\n",
       "</table>\n",
       "</div>"
      ],
      "text/plain": [
       "        age       sex       bmi        bp        s1        s2        s3  \\\n",
       "0  0.038076  0.050680  0.061696  0.021872 -0.044223 -0.034821 -0.043401   \n",
       "1 -0.001882 -0.044642 -0.051474 -0.026328 -0.008449 -0.019163  0.074412   \n",
       "2  0.085299  0.050680  0.044451 -0.005671 -0.045599 -0.034194 -0.032356   \n",
       "3 -0.089063 -0.044642 -0.011595 -0.036656  0.012191  0.024991 -0.036038   \n",
       "4  0.005383 -0.044642 -0.036385  0.021872  0.003935  0.015596  0.008142   \n",
       "\n",
       "         s4        s5        s6  target  \n",
       "0 -0.002592  0.019908 -0.017646   151.0  \n",
       "1 -0.039493 -0.068330 -0.092204    75.0  \n",
       "2 -0.002592  0.002864 -0.025930   141.0  \n",
       "3  0.034309  0.022692 -0.009362   206.0  \n",
       "4 -0.002592 -0.031991 -0.046641   135.0  "
      ]
     },
     "execution_count": 5,
     "metadata": {},
     "output_type": "execute_result"
    }
   ],
   "source": [
    "from sklearn import datasets\n",
    "\n",
    "diabetes = datasets.load_diabetes()\n",
    "\n",
    "df = pd.DataFrame(data= np.c_[diabetes['data'], diabetes['target']],\n",
    "                     columns= diabetes['feature_names'] + ['target'])\n",
    "\n",
    "df.head()"
   ]
  },
  {
   "cell_type": "code",
   "execution_count": 6,
   "metadata": {},
   "outputs": [
    {
     "data": {
      "text/plain": [
       "(442, 10)"
      ]
     },
     "execution_count": 6,
     "metadata": {},
     "output_type": "execute_result"
    }
   ],
   "source": [
    "inputs = df[df.columns[:-1]].to_numpy()\n",
    "inputs.shape"
   ]
  },
  {
   "cell_type": "code",
   "execution_count": 7,
   "metadata": {},
   "outputs": [
    {
     "data": {
      "text/plain": [
       "(442, 1)"
      ]
     },
     "execution_count": 7,
     "metadata": {},
     "output_type": "execute_result"
    }
   ],
   "source": [
    "targets = df.target.to_numpy().reshape((-1,1)) \n",
    "targets.shape"
   ]
  },
  {
   "cell_type": "markdown",
   "metadata": {},
   "source": [
    "## 2. Model"
   ]
  },
  {
   "cell_type": "markdown",
   "metadata": {},
   "source": [
    "The first thing we have to do is defining the model, the model will take inputs and then will compute the target using the input variables. In this case, the model will be a linear function.\n",
    "\n",
    "* We define the model as: $ prediction = X*m +n $, where:\n",
    "* $n$ : The bias.\n",
    "* $m$ : The weights.\n",
    "* $x$ : The inputs."
   ]
  },
  {
   "cell_type": "markdown",
   "metadata": {},
   "source": [
    "We create two tensors, imagine tensors like tensorflow numpy arrays. This tensors will contain the weights. We initialize with 0.5. We don't care about the shape, they'll automatically be adapted. We define the predict function, the model itself."
   ]
  },
  {
   "cell_type": "code",
   "execution_count": 8,
   "metadata": {},
   "outputs": [],
   "source": [
    "m = tf.Variable(0.5, shape=tf.TensorShape(None))\n",
    "b = tf.Variable(0.5, shape=tf.TensorShape(None))\n",
    "\n",
    "def predict(X):\n",
    "    return(tf.math.reduce_sum(X*m, 1) + b)"
   ]
  },
  {
   "cell_type": "markdown",
   "metadata": {},
   "source": [
    "We have defined the inputs taking all columns and rows except the target. This will be the X of our model.\n",
    "As you can see we'll have 10 weights, so the model will predict with the following function:\n",
    "\n",
    "* $ prediction = x_1.w_1 + x_2.w_2 +... + x_{9}.w_{10} + b $"
   ]
  },
  {
   "cell_type": "markdown",
   "metadata": {},
   "source": [
    "We define the loss function, this is the function that we want to minimize. In this case we want to minimize the error between the predicted value and the real value, to do this we'll use the mean squared error."
   ]
  },
  {
   "cell_type": "code",
   "execution_count": 10,
   "metadata": {},
   "outputs": [],
   "source": [
    "def mse(prediction, real):\n",
    "    return tf.math.reduce_mean(((prediction - real)**2))"
   ]
  },
  {
   "cell_type": "markdown",
   "metadata": {},
   "source": [
    "## 3. Gradient descent"
   ]
  },
  {
   "cell_type": "markdown",
   "metadata": {},
   "source": [
    "Now we have all ready, here comes the most intereseting part, the gradient descent. The idea behind this algorithm is very simple. We'll just minimize the error of the model descending step by step, using the partial derivatives of the loss function respect each variable. Let's see how it works. First we present the pseudocode:\n",
    "* While current_step < total_steps: \n",
    "* 1. Compute the model prediction.\n",
    "* 2. Compute the loss using the prediction and the real values.\n",
    "* 3. Compute the gradient of the loss respect each variable.\n",
    "* 4. Update the weights using the gradient and the learning rate.\n",
    "* 5. Step ++"
   ]
  },
  {
   "cell_type": "markdown",
   "metadata": {},
   "source": [
    "Now we define two important parameters for the alogrism. The learning rate, this is what will guide the descent. If is bigger the descent will be faster but incosistent, if is smaller the descent will be more consistent but slower. Deciding this parameter is so important becuase a high or low learning rate can cause that the model never converge, it afects directly the algorithm performance. \n",
    "In this case just for show we will compute just 10 steps. Then we define the steps, this will be the number of times that we update the weigths using all the dataset, we are using batches of all dataset."
   ]
  },
  {
   "cell_type": "code",
   "execution_count": 11,
   "metadata": {},
   "outputs": [],
   "source": [
    "steps = 20\n",
    "lr = 0.1"
   ]
  },
  {
   "cell_type": "code",
   "execution_count": 12,
   "metadata": {},
   "outputs": [
    {
     "name": "stdout",
     "output_type": "stream",
     "text": [
      "tf.Tensor(28922.615, shape=(), dtype=float32)\n",
      "========\n",
      "tf.Tensor(20645.24, shape=(), dtype=float32)\n",
      "========\n",
      "tf.Tensor(15347.715, shape=(), dtype=float32)\n",
      "========\n",
      "tf.Tensor(11957.302, shape=(), dtype=float32)\n",
      "========\n",
      "tf.Tensor(9787.4375, shape=(), dtype=float32)\n",
      "========\n",
      "tf.Tensor(8398.724, shape=(), dtype=float32)\n",
      "========\n",
      "tf.Tensor(7509.9463, shape=(), dtype=float32)\n",
      "========\n",
      "tf.Tensor(6941.129, shape=(), dtype=float32)\n",
      "========\n",
      "tf.Tensor(6577.0854, shape=(), dtype=float32)\n",
      "========\n",
      "tf.Tensor(6344.0967, shape=(), dtype=float32)\n",
      "========\n",
      "tf.Tensor(6194.9854, shape=(), dtype=float32)\n",
      "========\n",
      "tf.Tensor(6099.553, shape=(), dtype=float32)\n",
      "========\n",
      "tf.Tensor(6038.477, shape=(), dtype=float32)\n",
      "========\n",
      "tf.Tensor(5999.3877, shape=(), dtype=float32)\n",
      "========\n",
      "tf.Tensor(5974.3706, shape=(), dtype=float32)\n",
      "========\n",
      "tf.Tensor(5958.3594, shape=(), dtype=float32)\n",
      "========\n",
      "tf.Tensor(5948.113, shape=(), dtype=float32)\n",
      "========\n",
      "tf.Tensor(5941.5537, shape=(), dtype=float32)\n",
      "========\n",
      "tf.Tensor(5937.3564, shape=(), dtype=float32)\n",
      "========\n",
      "tf.Tensor(5934.6704, shape=(), dtype=float32)\n",
      "========\n"
     ]
    }
   ],
   "source": [
    "# We will save the loss though the steps\n",
    "loss_history = []\n",
    "\n",
    "# For each step\n",
    "for i in range(steps):\n",
    "    # We open a tensorflow's tape\n",
    "    with tf.GradientTape() as tape:\n",
    "        # Say to tensorflow which variables to trace\n",
    "        tape.watch([m,b])\n",
    "        # Get the prediction by the model\n",
    "        prediction = predict(inputs)\n",
    "        # Compute the loss   \n",
    "        loss = mse(prediction,targets)\n",
    "        \n",
    "    # Get the gradients respect the variables.\n",
    "    grads = tape.gradient(loss, [m,b])\n",
    "    \n",
    "    # Update the weights\n",
    "    m = m - grads[0]*lr\n",
    "    b = b - grads[1]*lr\n",
    "    \n",
    "    loss_history.append(loss)\n",
    "    print(loss)\n",
    "    print(\"========\")"
   ]
  },
  {
   "cell_type": "markdown",
   "metadata": {},
   "source": [
    "In the following figure we can see how the error between inputs and outputs is descending step by step."
   ]
  },
  {
   "cell_type": "code",
   "execution_count": 13,
   "metadata": {},
   "outputs": [
    {
     "data": {
      "text/plain": [
       "Text(0.5, 1.0, 'Loss')"
      ]
     },
     "execution_count": 13,
     "metadata": {},
     "output_type": "execute_result"
    },
    {
     "data": {
      "image/png": "[encoded data removed]",
      "text/plain": [
       "<Figure size 432x288 with 1 Axes>"
      ]
     },
     "metadata": {
      "needs_background": "light"
     },
     "output_type": "display_data"
    }
   ],
   "source": [
    "fig ,ax = plt.subplots()\n",
    "ax.plot(loss_history)\n",
    "ax.set_title(\"Loss\")"
   ]
  },
  {
   "cell_type": "markdown",
   "metadata": {},
   "source": [
    "## 4. Prediction"
   ]
  },
  {
   "cell_type": "markdown",
   "metadata": {},
   "source": [
    "Now we have the model trained, let's see how it works. We'll predict the first entry of the dataset, as you can see the difference between the prediction and the real value is so small. Now we can evaluate the model and take interesting metrics."
   ]
  },
  {
   "cell_type": "code",
   "execution_count": 14,
   "metadata": {},
   "outputs": [
    {
     "name": "stdout",
     "output_type": "stream",
     "text": [
      "\n",
      " Prediction:  [150.40437] \n",
      " Real : [151.]\n"
     ]
    }
   ],
   "source": [
    "print(\"\\n\",\"Prediction: \", predict(inputs[0:1]).numpy(),\"\\n\",\n",
    "      \"Real :\", targets[0])"
   ]
  }
 ],
 "metadata": {
  "kernelspec": {
   "display_name": "Python 3",
   "language": "python",
   "name": "python3"
  },
  "language_info": {
   "codemirror_mode": {
    "name": "ipython",
    "version": 3
   },
   "file_extension": ".py",
   "mimetype": "text/x-python",
   "name": "python",
   "nbconvert_exporter": "python",
   "pygments_lexer": "ipython3",
   "version": "3.7.4"
  }
 },
 "nbformat": 4,
 "nbformat_minor": 4
}
